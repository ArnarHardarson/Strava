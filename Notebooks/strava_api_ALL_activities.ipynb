{
 "cells": [
  {
   "cell_type": "code",
   "execution_count": 1,
   "metadata": {},
   "outputs": [],
   "source": [
    "import requests\n",
    "import urllib3\n",
    "urllib3.disable_warnings(urllib3.exceptions.InsecureRequestWarning)\n",
    "import pandas as pd\n",
    "import pyarrow\n",
    "import json\n",
    "import datetime\n",
    "import time\n",
    "import os\n",
    "import glob\n",
    "import readline\n",
    "from dotenv import load_dotenv\n"
   ]
  },
  {
   "cell_type": "code",
   "execution_count": 36,
   "metadata": {},
   "outputs": [],
   "source": [
    "# Load the environment variables from the .env file\n",
    "load_dotenv()\n",
    "\n",
    "# Access the environment variables\n",
    "client_id = os.getenv('CLIENT_ID')\n",
    "client_secret = os.getenv('CLIENT_SECRET')\n",
    "refresh_token = os.getenv('REFRESH_TOKEN')\n",
    "\n",
    "payload = {\n",
    "    'client_id': client_id,\n",
    "    'client_secret': client_secret,\n",
    "    'refresh_token': refresh_token,\n",
    "    'grant_type': \"refresh_token\",\n",
    "    'f': 'json'\n",
    "}"
   ]
  },
  {
   "cell_type": "code",
   "execution_count": 7,
   "metadata": {},
   "outputs": [],
   "source": [
    "auth_url = \"https://www.strava.com/oauth/token\"\n",
    "activites_url = \"https://www.strava.com/api/v3/athlete/activities\""
   ]
  },
  {
   "cell_type": "code",
   "execution_count": 38,
   "metadata": {},
   "outputs": [
    {
     "name": "stdout",
     "output_type": "stream",
     "text": [
      "Requesting Token...\n",
      "\n"
     ]
    }
   ],
   "source": [
    "print(\"Requesting Token...\\n\")\n",
    "res = requests.post(auth_url, data=payload, verify=False)\n",
    "access_token = res.json()['access_token']"
   ]
  },
  {
   "cell_type": "code",
   "execution_count": 39,
   "metadata": {},
   "outputs": [],
   "source": [
    "def write_dataframe_to_parquet(file_path, df):\n",
    "    df.to_parquet(file_path, engine='pyarrow')"
   ]
  },
  {
   "cell_type": "code",
   "execution_count": null,
   "metadata": {},
   "outputs": [],
   "source": [
    "def activityid_list():\n",
    "  \"\"\"\n",
    "  Returns a list of all activityId's for the current set-up\n",
    "  \"\"\"\n",
    "  header = {'Authorization': 'Bearer ' + access_token}\n",
    "  # The first loop, request_page_number will be set to one, so it requests the first page. Increment this number after\n",
    "  # each request, so the next time we request the second page, then third, and so on...\n",
    "  request_page_num = 1\n",
    "  all_activities = []\n",
    "\n",
    "  while True:\n",
    "      param = {'per_page': 200, 'page': request_page_num}\n",
    "      # initial request, where we request the first page of activities\n",
    "      my_dataset = requests.get(activites_url, headers=header, params=param).json()\n",
    "\n",
    "      # check the response to make sure it is not empty. If it is empty, that means there is no more data left. So if you have\n",
    "      # 1000 activities, on the 6th request, where we request page 6, there would be no more data left, so we will break out of the loop\n",
    "      if len(my_dataset) == 0:\n",
    "          print(\"breaking out of while loop because the response is zero, which means there must be no more activities\")\n",
    "          break\n",
    "\n",
    "      # if the all_activities list is already populated, that means we want to add additional data to it via extend.\n",
    "      if all_activities:\n",
    "          print(\"all_activities is populated\")\n",
    "          all_activities.extend(my_dataset)\n",
    "\n",
    "      # if the all_activities is empty, this is the first time adding data so we just set it equal to my_dataset\n",
    "      else:\n",
    "          print(\"all_activities is NOT populated\")\n",
    "          all_activities = my_dataset\n",
    "\n",
    "      request_page_num += 1\n",
    "\n",
    "  print(\"Total activites in all_activities: \" + str(len(all_activities)))\n",
    "    "
   ]
  },
  {
   "cell_type": "code",
   "execution_count": 40,
   "metadata": {},
   "outputs": [],
   "source": [
    "def all_activites_new(activityId):\n",
    "\n",
    "    headers = {\n",
    "                \"accept\": \"application/json\",\n",
    "                \"authorization\": f\"Bearer {access_token}\"\n",
    "        }\n",
    "\n",
    "    url = f\"https://www.strava.com/api/v3/activities/{activityId}?include_all_efforts=true\"\n",
    "\n",
    "    response = requests.get(url, headers=headers)\n",
    "    response = response.json()\n",
    "    return(response)\n",
    "            "
   ]
  },
  {
   "cell_type": "code",
   "execution_count": 42,
   "metadata": {},
   "outputs": [],
   "source": [
    "# Set the maximum request limit and the time interval\n",
    "request_limit = 600 # I think\n",
    "interval_minutes = 15\n",
    "request_count = 0\n",
    "\n",
    "# Initialize the result list\n",
    "all_activites_new_list = []\n",
    "\n",
    "# Function to make the API request\n",
    "def make_api_request():\n",
    "    # Make the API request here\n",
    "    for i in range(0, len(activityId_list)):\n",
    "        response = all_activites_new(activityId_list[i])\n",
    "        all_activites_new_list.append(response)    \n",
    "        global request_count\n",
    "        request_count += 1           \n",
    "        # If the request limit has been reached, wait for the specified interval and continue\n",
    "        if request_count >= request_limit:\n",
    "            current_time = datetime.now().time().strftime(\"%I:%M %p\")\n",
    "            print(f\"Reached the request limit of {request_limit} for the current batch, we are at {i} requests.\")\n",
    "            print(f\"Waiting for {interval_minutes} minutes. It is {current_time} when the waiting starts.\")\n",
    "            time.sleep(interval_minutes * 60)\n",
    "            request_count = 0  # Reset the request count after the delay\n",
    "    return(all_activites_new_list)"
   ]
  },
  {
   "cell_type": "code",
   "execution_count": 43,
   "metadata": {},
   "outputs": [
    {
     "ename": "NameError",
     "evalue": "name 'activityId_list' is not defined",
     "output_type": "error",
     "traceback": [
      "\u001b[0;31m---------------------------------------------------------------------------\u001b[0m",
      "\u001b[0;31mNameError\u001b[0m                                 Traceback (most recent call last)",
      "Cell \u001b[0;32mIn[43], line 1\u001b[0m\n\u001b[0;32m----> 1\u001b[0m result \u001b[39m=\u001b[39m make_api_request()\n\u001b[1;32m      2\u001b[0m result \u001b[39m=\u001b[39m pd\u001b[39m.\u001b[39mjson_normalize(result)\n",
      "Cell \u001b[0;32mIn[42], line 12\u001b[0m, in \u001b[0;36mmake_api_request\u001b[0;34m()\u001b[0m\n\u001b[1;32m     10\u001b[0m \u001b[39mdef\u001b[39;00m \u001b[39mmake_api_request\u001b[39m():\n\u001b[1;32m     11\u001b[0m     \u001b[39m# Make the API request here\u001b[39;00m\n\u001b[0;32m---> 12\u001b[0m     \u001b[39mfor\u001b[39;00m i \u001b[39min\u001b[39;00m \u001b[39mrange\u001b[39m(\u001b[39m0\u001b[39m, \u001b[39mlen\u001b[39m(activityId_list)):\n\u001b[1;32m     13\u001b[0m         response \u001b[39m=\u001b[39m all_activites_new(activityId_list[i])\n\u001b[1;32m     14\u001b[0m         all_activites_new_list\u001b[39m.\u001b[39mappend(response)    \n",
      "\u001b[0;31mNameError\u001b[0m: name 'activityId_list' is not defined"
     ]
    }
   ],
   "source": [
    "result = make_api_request()\n",
    "result = pd.json_normalize(result)"
   ]
  },
  {
   "cell_type": "code",
   "execution_count": null,
   "metadata": {},
   "outputs": [],
   "source": [
    "current_date = datetime.date.today().strftime('%Y%m%d')\n",
    "file_path = f'all_activities_detailed_clientId_{strava_config.client_id}_{current_date}.parquet'  # Specify the path and name of the file\n",
    "write_dataframe_to_parquet(file_path, result)"
   ]
  },
  {
   "cell_type": "code",
   "execution_count": null,
   "metadata": {},
   "outputs": [],
   "source": [
    "# root\n",
    "os.chdir('/Users/lindalarusdottir/Arnar/Projects/Strava/')\n",
    "\n",
    "data_folder = 'data'  # Name of the subfolder containing the data\n",
    "\n",
    "# Get the current working directory\n",
    "current_directory = os.getcwd()\n",
    "\n",
    "# Change directory\n",
    "os.chdir(os.path.join(current_directory, data_folder))\n",
    "# Retrieve the filenames in the directory\n",
    "files = glob.glob('*')\n",
    "print(files)"
   ]
  },
  {
   "cell_type": "code",
   "execution_count": null,
   "metadata": {},
   "outputs": [],
   "source": [
    "file_name = files[4]\n",
    "\n",
    "# Read the file into a DataFrame\n",
    "try:\n",
    "    df_all_activites_new = pd.read_parquet(file_name)\n",
    "    #print(df_all_activites.head())  # Display the first few rows of the DataFrame\n",
    "except FileNotFoundError:\n",
    "    print(f\"File '{file_name}' not found.\")"
   ]
  },
  {
   "cell_type": "code",
   "execution_count": null,
   "metadata": {},
   "outputs": [],
   "source": [
    "df_all_activites_new[~df_all_activites_new['description'].isna()]"
   ]
  }
 ],
 "metadata": {
  "kernelspec": {
   "display_name": "base",
   "language": "python",
   "name": "python3"
  },
  "language_info": {
   "codemirror_mode": {
    "name": "ipython",
    "version": 3
   },
   "file_extension": ".py",
   "mimetype": "text/x-python",
   "name": "python",
   "nbconvert_exporter": "python",
   "pygments_lexer": "ipython3",
   "version": "3.13.1"
  },
  "orig_nbformat": 4
 },
 "nbformat": 4,
 "nbformat_minor": 2
}
